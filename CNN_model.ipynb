{
  "nbformat": 4,
  "nbformat_minor": 0,
  "metadata": {
    "colab": {
      "name": "CNN-model.ipynb",
      "version": "0.3.2",
      "provenance": [],
      "collapsed_sections": [],
      "include_colab_link": true
    },
    "kernelspec": {
      "name": "python3",
      "display_name": "Python 3"
    },
    "accelerator": "GPU"
  },
  "cells": [
    {
      "cell_type": "markdown",
      "metadata": {
        "id": "view-in-github",
        "colab_type": "text"
      },
      "source": [
        "<a href=\"https://colab.research.google.com/github/tommycwong/TEM_HeliumBubbles/blob/master/CNN_model.ipynb\" target=\"_parent\"><img src=\"https://colab.research.google.com/assets/colab-badge.svg\" alt=\"Open In Colab\"/></a>"
      ]
    },
    {
      "cell_type": "code",
      "metadata": {
        "id": "kSmGuwcHyzSy",
        "colab_type": "code",
        "colab": {}
      },
      "source": [
        "import tensorflow as tf\n",
        "from tensorflow.keras.layers import Input, Conv2D, MaxPooling2D, UpSampling2D\n",
        "from tensorflow.keras.models import Model"
      ],
      "execution_count": 0,
      "outputs": []
    },
    {
      "cell_type": "code",
      "metadata": {
        "id": "J5a7nNEDD4YG",
        "colab_type": "code",
        "colab": {
          "base_uri": "https://localhost:8080/",
          "height": 88
        },
        "outputId": "9d7edf53-85a3-4ebc-d15f-ca9d9d40e043"
      },
      "source": [
        "# Create an input layer\n",
        "inputs = Input(shape=(256, 256, 1))\n",
        "# Convolutional layer with ReLU activation\n",
        "c1 = Conv2D(32, (3, 3), activation='relu', padding='same')(inputs)\n",
        "# Convolutional layer with ReLU activation\n",
        "c2 = Conv2D(32, (3, 3), activation='relu', padding='same')(c1)\n",
        "# Max-pooling layer (reduce size by a factor of 2)\n",
        "p1 = MaxPooling2D((2, 2))(c2)\n",
        "# Convolutional layer with ReLU activation\n",
        "c3 = Conv2D(64, (3, 3), activation='relu', padding='same')(p1)\n",
        "# Convolutional layer with ReLU activation\n",
        "c4 = Conv2D(64, (3, 3), activation='relu', padding='same')(c3)\n",
        "# Max-pooling layer (reduce size by a factor of 2)\n",
        "p2 = MaxPooling2D((2, 2))(c4)\n",
        "# Convolutional layer with ReLU activation\n",
        "c5 = Conv2D(128, (3, 3), activation='relu',padding='same')(p2)\n",
        "# Convolutional layer with ReLU activation\n",
        "c6 = Conv2D(128, (3, 3), activation='relu', padding='same')(c5)\n",
        "# Upsampling (x2) with bilinear interpolation\n",
        "s1 = UpSampling2D((2, 2), interpolation='bilinear')(c6)\n",
        "#s1 = tf.keras.layers.concatenate([c4, s1])\n",
        "# Convolutional layer with ReLU activation\n",
        "c7 = Conv2D(64, (3, 3), activation='relu', padding='same')(s1)\n",
        "# Convolutional layer with ReLU activation\n",
        "c8 = Conv2D(64, (3, 3), activation='relu', padding='same')(c7)\n",
        "# Upsampling (x2) with bilinear interpolation\n",
        "s2 = UpSampling2D((2, 2), interpolation='bilinear')(c8)\n",
        "#s2 = tf.keras.layers.concatenate([c2, s2])\n",
        "# Convolutional layer with ReLU activation\n",
        "c9 = Conv2D(32, (3, 3), activation='relu', padding='same')(s2)\n",
        "# Convolutional layer with ReLU activation\n",
        "c10 = Conv2D(32, (3, 3), activation='relu', padding='same')(c9)\n",
        "# Convolutional layer for classification (activation 'softmax')\n",
        "outputs = Conv2D(1, (3, 3), activation='softmax')(c10)\n",
        "# Instantiate model\n",
        "model = Model(inputs, outputs)\n",
        "# Compile model using binary crossentropy loss function and Adam optimizer\n",
        "model.compile(optimizer='adam',\n",
        "              loss='binary_crossentropy',\n",
        "              metrics=['accuracy'])"
      ],
      "execution_count": 2,
      "outputs": [
        {
          "output_type": "stream",
          "text": [
            "WARNING:tensorflow:From /usr/local/lib/python3.6/dist-packages/tensorflow/python/ops/resource_variable_ops.py:435: colocate_with (from tensorflow.python.framework.ops) is deprecated and will be removed in a future version.\n",
            "Instructions for updating:\n",
            "Colocations handled automatically by placer.\n"
          ],
          "name": "stdout"
        }
      ]
    },
    {
      "cell_type": "code",
      "metadata": {
        "id": "ECOyd53_J6vh",
        "colab_type": "code",
        "outputId": "1675d69e-0551-4b10-907c-672d795bb160",
        "colab": {
          "base_uri": "https://localhost:8080/",
          "height": 1736
        }
      },
      "source": [
        "from tensorflow.python.keras.utils.vis_utils import model_to_dot\n",
        "from IPython.display import SVG\n",
        "SVG(model_to_dot(model).create(prog='dot', format='svg'))"
      ],
      "execution_count": 3,
      "outputs": [
        {
          "output_type": "execute_result",
          "data": {
            "text/plain": [
              "<IPython.core.display.SVG object>"
            ],
            "image/svg+xml": "<svg height=\"1286pt\" viewBox=\"0.00 0.00 359.00 1286.00\" width=\"359pt\" xmlns=\"http://www.w3.org/2000/svg\" xmlns:xlink=\"http://www.w3.org/1999/xlink\">\n<g class=\"graph\" id=\"graph0\" transform=\"scale(1 1) rotate(0) translate(4 1282)\">\n<title>G</title>\n<polygon fill=\"#ffffff\" points=\"-4,4 -4,-1282 355,-1282 355,4 -4,4\" stroke=\"transparent\"/>\n<!-- 140494775915520 -->\n<g class=\"node\" id=\"node1\">\n<title>140494775915520</title>\n<polygon fill=\"none\" points=\"201,-1241.5 201,-1277.5 334,-1277.5 334,-1241.5 201,-1241.5\" stroke=\"#000000\"/>\n<text fill=\"#000000\" font-family=\"Times,serif\" font-size=\"14.00\" text-anchor=\"middle\" x=\"267.5\" y=\"-1255.8\">input_1: InputLayer</text>\n</g>\n<!-- 140494775915464 -->\n<g class=\"node\" id=\"node2\">\n<title>140494775915464</title>\n<polygon fill=\"none\" points=\"208.5,-1168.5 208.5,-1204.5 326.5,-1204.5 326.5,-1168.5 208.5,-1168.5\" stroke=\"#000000\"/>\n<text fill=\"#000000\" font-family=\"Times,serif\" font-size=\"14.00\" text-anchor=\"middle\" x=\"267.5\" y=\"-1182.8\">conv2d: Conv2D</text>\n</g>\n<!-- 140494775915520&#45;&gt;140494775915464 -->\n<g class=\"edge\" id=\"edge1\">\n<title>140494775915520-&gt;140494775915464</title>\n<path d=\"M267.5,-1241.4551C267.5,-1233.3828 267.5,-1223.6764 267.5,-1214.6817\" fill=\"none\" stroke=\"#000000\"/>\n<polygon fill=\"#000000\" points=\"271.0001,-1214.5903 267.5,-1204.5904 264.0001,-1214.5904 271.0001,-1214.5903\" stroke=\"#000000\"/>\n</g>\n<!-- 140496028830968 -->\n<g class=\"node\" id=\"node3\">\n<title>140496028830968</title>\n<polygon fill=\"none\" points=\"201,-1095.5 201,-1131.5 334,-1131.5 334,-1095.5 201,-1095.5\" stroke=\"#000000\"/>\n<text fill=\"#000000\" font-family=\"Times,serif\" font-size=\"14.00\" text-anchor=\"middle\" x=\"267.5\" y=\"-1109.8\">conv2d_1: Conv2D</text>\n</g>\n<!-- 140494775915464&#45;&gt;140496028830968 -->\n<g class=\"edge\" id=\"edge2\">\n<title>140494775915464-&gt;140496028830968</title>\n<path d=\"M267.5,-1168.4551C267.5,-1160.3828 267.5,-1150.6764 267.5,-1141.6817\" fill=\"none\" stroke=\"#000000\"/>\n<polygon fill=\"#000000\" points=\"271.0001,-1141.5903 267.5,-1131.5904 264.0001,-1141.5904 271.0001,-1141.5903\" stroke=\"#000000\"/>\n</g>\n<!-- 140496397096552 -->\n<g class=\"node\" id=\"node4\">\n<title>140496397096552</title>\n<polygon fill=\"none\" points=\"99.5,-1022.5 99.5,-1058.5 305.5,-1058.5 305.5,-1022.5 99.5,-1022.5\" stroke=\"#000000\"/>\n<text fill=\"#000000\" font-family=\"Times,serif\" font-size=\"14.00\" text-anchor=\"middle\" x=\"202.5\" y=\"-1036.8\">max_pooling2d: MaxPooling2D</text>\n</g>\n<!-- 140496028830968&#45;&gt;140496397096552 -->\n<g class=\"edge\" id=\"edge3\">\n<title>140496028830968-&gt;140496397096552</title>\n<path d=\"M251.4326,-1095.4551C243.5419,-1086.5932 233.8974,-1075.7616 225.263,-1066.0646\" fill=\"none\" stroke=\"#000000\"/>\n<polygon fill=\"#000000\" points=\"227.8718,-1063.7313 218.6079,-1058.5904 222.6439,-1068.3863 227.8718,-1063.7313\" stroke=\"#000000\"/>\n</g>\n<!-- 140494766240376 -->\n<g class=\"node\" id=\"node15\">\n<title>140494766240376</title>\n<polygon fill=\"none\" points=\"176,-219.5 176,-255.5 351,-255.5 351,-219.5 176,-219.5\" stroke=\"#000000\"/>\n<text fill=\"#000000\" font-family=\"Times,serif\" font-size=\"14.00\" text-anchor=\"middle\" x=\"263.5\" y=\"-233.8\">concatenate_1: Concatenate</text>\n</g>\n<!-- 140496028830968&#45;&gt;140494766240376 -->\n<g class=\"edge\" id=\"edge15\">\n<title>140496028830968-&gt;140494766240376</title>\n<path d=\"M287.5852,-1095.0836C297.1265,-1085.2622 307.8681,-1072.4466 314.5,-1059 332.8716,-1021.7499 333.5,-1009.0342 333.5,-967.5 333.5,-967.5 333.5,-967.5 333.5,-383.5 333.5,-341.8732 332.6773,-328.9462 313.5,-292 308.0651,-281.5293 300.0912,-271.5546 292.1008,-263.0685\" fill=\"none\" stroke=\"#000000\"/>\n<polygon fill=\"#000000\" points=\"294.3524,-260.3679 284.8304,-255.7222 289.377,-265.2919 294.3524,-260.3679\" stroke=\"#000000\"/>\n</g>\n<!-- 140494775959736 -->\n<g class=\"node\" id=\"node5\">\n<title>140494775959736</title>\n<polygon fill=\"none\" points=\"136,-949.5 136,-985.5 269,-985.5 269,-949.5 136,-949.5\" stroke=\"#000000\"/>\n<text fill=\"#000000\" font-family=\"Times,serif\" font-size=\"14.00\" text-anchor=\"middle\" x=\"202.5\" y=\"-963.8\">conv2d_2: Conv2D</text>\n</g>\n<!-- 140496397096552&#45;&gt;140494775959736 -->\n<g class=\"edge\" id=\"edge4\">\n<title>140496397096552-&gt;140494775959736</title>\n<path d=\"M202.5,-1022.4551C202.5,-1014.3828 202.5,-1004.6764 202.5,-995.6817\" fill=\"none\" stroke=\"#000000\"/>\n<polygon fill=\"#000000\" points=\"206.0001,-995.5903 202.5,-985.5904 199.0001,-995.5904 206.0001,-995.5903\" stroke=\"#000000\"/>\n</g>\n<!-- 140494775959680 -->\n<g class=\"node\" id=\"node6\">\n<title>140494775959680</title>\n<polygon fill=\"none\" points=\"136,-876.5 136,-912.5 269,-912.5 269,-876.5 136,-876.5\" stroke=\"#000000\"/>\n<text fill=\"#000000\" font-family=\"Times,serif\" font-size=\"14.00\" text-anchor=\"middle\" x=\"202.5\" y=\"-890.8\">conv2d_3: Conv2D</text>\n</g>\n<!-- 140494775959736&#45;&gt;140494775959680 -->\n<g class=\"edge\" id=\"edge5\">\n<title>140494775959736-&gt;140494775959680</title>\n<path d=\"M202.5,-949.4551C202.5,-941.3828 202.5,-931.6764 202.5,-922.6817\" fill=\"none\" stroke=\"#000000\"/>\n<polygon fill=\"#000000\" points=\"206.0001,-922.5903 202.5,-912.5904 199.0001,-922.5904 206.0001,-922.5903\" stroke=\"#000000\"/>\n</g>\n<!-- 140494767321216 -->\n<g class=\"node\" id=\"node7\">\n<title>140494767321216</title>\n<polygon fill=\"none\" points=\"0,-803.5 0,-839.5 221,-839.5 221,-803.5 0,-803.5\" stroke=\"#000000\"/>\n<text fill=\"#000000\" font-family=\"Times,serif\" font-size=\"14.00\" text-anchor=\"middle\" x=\"110.5\" y=\"-817.8\">max_pooling2d_1: MaxPooling2D</text>\n</g>\n<!-- 140494775959680&#45;&gt;140494767321216 -->\n<g class=\"edge\" id=\"edge6\">\n<title>140494775959680-&gt;140494767321216</title>\n<path d=\"M179.7584,-876.4551C168.1477,-867.2422 153.8542,-855.9006 141.2734,-845.918\" fill=\"none\" stroke=\"#000000\"/>\n<polygon fill=\"#000000\" points=\"143.3079,-843.0644 133.2988,-839.5904 138.9569,-848.5479 143.3079,-843.0644\" stroke=\"#000000\"/>\n</g>\n<!-- 140494766853368 -->\n<g class=\"node\" id=\"node11\">\n<title>140494766853368</title>\n<polygon fill=\"none\" points=\"114.5,-511.5 114.5,-547.5 274.5,-547.5 274.5,-511.5 114.5,-511.5\" stroke=\"#000000\"/>\n<text fill=\"#000000\" font-family=\"Times,serif\" font-size=\"14.00\" text-anchor=\"middle\" x=\"194.5\" y=\"-525.8\">concatenate: Concatenate</text>\n</g>\n<!-- 140494775959680&#45;&gt;140494766853368 -->\n<g class=\"edge\" id=\"edge10\">\n<title>140494775959680-&gt;140494766853368</title>\n<path d=\"M212.9073,-876.3232C218.4838,-865.9524 225.0934,-852.5538 229.5,-840 243.2871,-800.7227 249.5,-790.1268 249.5,-748.5 249.5,-748.5 249.5,-748.5 249.5,-675.5 249.5,-633.8732 245.4428,-622.4528 229.5,-584 225.5365,-574.4402 219.8994,-564.7104 214.3042,-556.1683\" fill=\"none\" stroke=\"#000000\"/>\n<polygon fill=\"#000000\" points=\"217.0889,-554.0397 208.5605,-547.7533 211.3073,-557.9859 217.0889,-554.0397\" stroke=\"#000000\"/>\n</g>\n<!-- 140494766981192 -->\n<g class=\"node\" id=\"node8\">\n<title>140494766981192</title>\n<polygon fill=\"none\" points=\"46,-730.5 46,-766.5 179,-766.5 179,-730.5 46,-730.5\" stroke=\"#000000\"/>\n<text fill=\"#000000\" font-family=\"Times,serif\" font-size=\"14.00\" text-anchor=\"middle\" x=\"112.5\" y=\"-744.8\">conv2d_4: Conv2D</text>\n</g>\n<!-- 140494767321216&#45;&gt;140494766981192 -->\n<g class=\"edge\" id=\"edge7\">\n<title>140494767321216-&gt;140494766981192</title>\n<path d=\"M110.9944,-803.4551C111.2155,-795.3828 111.4815,-785.6764 111.7279,-776.6817\" fill=\"none\" stroke=\"#000000\"/>\n<polygon fill=\"#000000\" points=\"115.2291,-776.6825 112.0044,-766.5904 108.2317,-776.4907 115.2291,-776.6825\" stroke=\"#000000\"/>\n</g>\n<!-- 140494766886808 -->\n<g class=\"node\" id=\"node9\">\n<title>140494766886808</title>\n<polygon fill=\"none\" points=\"50,-657.5 50,-693.5 183,-693.5 183,-657.5 50,-657.5\" stroke=\"#000000\"/>\n<text fill=\"#000000\" font-family=\"Times,serif\" font-size=\"14.00\" text-anchor=\"middle\" x=\"116.5\" y=\"-671.8\">conv2d_5: Conv2D</text>\n</g>\n<!-- 140494766981192&#45;&gt;140494766886808 -->\n<g class=\"edge\" id=\"edge8\">\n<title>140494766981192-&gt;140494766886808</title>\n<path d=\"M113.4888,-730.4551C113.9311,-722.3828 114.4629,-712.6764 114.9558,-703.6817\" fill=\"none\" stroke=\"#000000\"/>\n<polygon fill=\"#000000\" points=\"118.4563,-703.7669 115.5087,-693.5904 111.4668,-703.3839 118.4563,-703.7669\" stroke=\"#000000\"/>\n</g>\n<!-- 140494767082352 -->\n<g class=\"node\" id=\"node10\">\n<title>140494767082352</title>\n<polygon fill=\"none\" points=\"14.5,-584.5 14.5,-620.5 220.5,-620.5 220.5,-584.5 14.5,-584.5\" stroke=\"#000000\"/>\n<text fill=\"#000000\" font-family=\"Times,serif\" font-size=\"14.00\" text-anchor=\"middle\" x=\"117.5\" y=\"-598.8\">up_sampling2d: UpSampling2D</text>\n</g>\n<!-- 140494766886808&#45;&gt;140494767082352 -->\n<g class=\"edge\" id=\"edge9\">\n<title>140494766886808-&gt;140494767082352</title>\n<path d=\"M116.7472,-657.4551C116.8578,-649.3828 116.9907,-639.6764 117.1139,-630.6817\" fill=\"none\" stroke=\"#000000\"/>\n<polygon fill=\"#000000\" points=\"120.6148,-630.6374 117.2522,-620.5904 113.6154,-630.5414 120.6148,-630.6374\" stroke=\"#000000\"/>\n</g>\n<!-- 140494767082352&#45;&gt;140494766853368 -->\n<g class=\"edge\" id=\"edge11\">\n<title>140494767082352-&gt;140494766853368</title>\n<path d=\"M136.5337,-584.4551C146.0663,-575.4177 157.7595,-564.3319 168.1408,-554.4899\" fill=\"none\" stroke=\"#000000\"/>\n<polygon fill=\"#000000\" points=\"170.5693,-557.0104 175.4184,-547.5904 165.7533,-551.9305 170.5693,-557.0104\" stroke=\"#000000\"/>\n</g>\n<!-- 140496285680696 -->\n<g class=\"node\" id=\"node12\">\n<title>140496285680696</title>\n<polygon fill=\"none\" points=\"128,-438.5 128,-474.5 261,-474.5 261,-438.5 128,-438.5\" stroke=\"#000000\"/>\n<text fill=\"#000000\" font-family=\"Times,serif\" font-size=\"14.00\" text-anchor=\"middle\" x=\"194.5\" y=\"-452.8\">conv2d_6: Conv2D</text>\n</g>\n<!-- 140494766853368&#45;&gt;140496285680696 -->\n<g class=\"edge\" id=\"edge12\">\n<title>140494766853368-&gt;140496285680696</title>\n<path d=\"M194.5,-511.4551C194.5,-503.3828 194.5,-493.6764 194.5,-484.6817\" fill=\"none\" stroke=\"#000000\"/>\n<polygon fill=\"#000000\" points=\"198.0001,-484.5903 194.5,-474.5904 191.0001,-484.5904 198.0001,-484.5903\" stroke=\"#000000\"/>\n</g>\n<!-- 140494766766568 -->\n<g class=\"node\" id=\"node13\">\n<title>140494766766568</title>\n<polygon fill=\"none\" points=\"128,-365.5 128,-401.5 261,-401.5 261,-365.5 128,-365.5\" stroke=\"#000000\"/>\n<text fill=\"#000000\" font-family=\"Times,serif\" font-size=\"14.00\" text-anchor=\"middle\" x=\"194.5\" y=\"-379.8\">conv2d_7: Conv2D</text>\n</g>\n<!-- 140496285680696&#45;&gt;140494766766568 -->\n<g class=\"edge\" id=\"edge13\">\n<title>140496285680696-&gt;140494766766568</title>\n<path d=\"M194.5,-438.4551C194.5,-430.3828 194.5,-420.6764 194.5,-411.6817\" fill=\"none\" stroke=\"#000000\"/>\n<polygon fill=\"#000000\" points=\"198.0001,-411.5903 194.5,-401.5904 191.0001,-411.5904 198.0001,-411.5903\" stroke=\"#000000\"/>\n</g>\n<!-- 140494766442032 -->\n<g class=\"node\" id=\"node14\">\n<title>140494766442032</title>\n<polygon fill=\"none\" points=\"84,-292.5 84,-328.5 305,-328.5 305,-292.5 84,-292.5\" stroke=\"#000000\"/>\n<text fill=\"#000000\" font-family=\"Times,serif\" font-size=\"14.00\" text-anchor=\"middle\" x=\"194.5\" y=\"-306.8\">up_sampling2d_1: UpSampling2D</text>\n</g>\n<!-- 140494766766568&#45;&gt;140494766442032 -->\n<g class=\"edge\" id=\"edge14\">\n<title>140494766766568-&gt;140494766442032</title>\n<path d=\"M194.5,-365.4551C194.5,-357.3828 194.5,-347.6764 194.5,-338.6817\" fill=\"none\" stroke=\"#000000\"/>\n<polygon fill=\"#000000\" points=\"198.0001,-338.5903 194.5,-328.5904 191.0001,-338.5904 198.0001,-338.5903\" stroke=\"#000000\"/>\n</g>\n<!-- 140494766442032&#45;&gt;140494766240376 -->\n<g class=\"edge\" id=\"edge16\">\n<title>140494766442032-&gt;140494766240376</title>\n<path d=\"M211.5562,-292.4551C219.9325,-283.5932 230.1705,-272.7616 239.3362,-263.0646\" fill=\"none\" stroke=\"#000000\"/>\n<polygon fill=\"#000000\" points=\"242.0753,-265.262 246.4009,-255.5904 236.9881,-260.4535 242.0753,-265.262\" stroke=\"#000000\"/>\n</g>\n<!-- 140494766128488 -->\n<g class=\"node\" id=\"node16\">\n<title>140494766128488</title>\n<polygon fill=\"none\" points=\"197,-146.5 197,-182.5 330,-182.5 330,-146.5 197,-146.5\" stroke=\"#000000\"/>\n<text fill=\"#000000\" font-family=\"Times,serif\" font-size=\"14.00\" text-anchor=\"middle\" x=\"263.5\" y=\"-160.8\">conv2d_8: Conv2D</text>\n</g>\n<!-- 140494766240376&#45;&gt;140494766128488 -->\n<g class=\"edge\" id=\"edge17\">\n<title>140494766240376-&gt;140494766128488</title>\n<path d=\"M263.5,-219.4551C263.5,-211.3828 263.5,-201.6764 263.5,-192.6817\" fill=\"none\" stroke=\"#000000\"/>\n<polygon fill=\"#000000\" points=\"267.0001,-192.5903 263.5,-182.5904 260.0001,-192.5904 267.0001,-192.5903\" stroke=\"#000000\"/>\n</g>\n<!-- 140494766243568 -->\n<g class=\"node\" id=\"node17\">\n<title>140494766243568</title>\n<polygon fill=\"none\" points=\"197,-73.5 197,-109.5 330,-109.5 330,-73.5 197,-73.5\" stroke=\"#000000\"/>\n<text fill=\"#000000\" font-family=\"Times,serif\" font-size=\"14.00\" text-anchor=\"middle\" x=\"263.5\" y=\"-87.8\">conv2d_9: Conv2D</text>\n</g>\n<!-- 140494766128488&#45;&gt;140494766243568 -->\n<g class=\"edge\" id=\"edge18\">\n<title>140494766128488-&gt;140494766243568</title>\n<path d=\"M263.5,-146.4551C263.5,-138.3828 263.5,-128.6764 263.5,-119.6817\" fill=\"none\" stroke=\"#000000\"/>\n<polygon fill=\"#000000\" points=\"267.0001,-119.5903 263.5,-109.5904 260.0001,-119.5904 267.0001,-119.5903\" stroke=\"#000000\"/>\n</g>\n<!-- 140494765610992 -->\n<g class=\"node\" id=\"node18\">\n<title>140494765610992</title>\n<polygon fill=\"none\" points=\"193.5,-.5 193.5,-36.5 333.5,-36.5 333.5,-.5 193.5,-.5\" stroke=\"#000000\"/>\n<text fill=\"#000000\" font-family=\"Times,serif\" font-size=\"14.00\" text-anchor=\"middle\" x=\"263.5\" y=\"-14.8\">conv2d_10: Conv2D</text>\n</g>\n<!-- 140494766243568&#45;&gt;140494765610992 -->\n<g class=\"edge\" id=\"edge19\">\n<title>140494766243568-&gt;140494765610992</title>\n<path d=\"M263.5,-73.4551C263.5,-65.3828 263.5,-55.6764 263.5,-46.6817\" fill=\"none\" stroke=\"#000000\"/>\n<polygon fill=\"#000000\" points=\"267.0001,-46.5903 263.5,-36.5904 260.0001,-46.5904 267.0001,-46.5903\" stroke=\"#000000\"/>\n</g>\n</g>\n</svg>"
          },
          "metadata": {
            "tags": []
          },
          "execution_count": 3
        }
      ]
    }
  ]
}